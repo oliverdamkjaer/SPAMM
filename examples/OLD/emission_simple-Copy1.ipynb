{
 "cells": [
  {
   "cell_type": "code",
   "execution_count": 1,
   "id": "54c365c7-614e-46a3-b8d2-a06174f8edc5",
   "metadata": {},
   "outputs": [],
   "source": [
    "import numpy as np\n",
    "from spamm.run_spamm import spamm\n",
    "from spamm.components.EmissionComponent import EmissionComponent\n",
    "from spamm.analysis import plot_best_models, plot_chains\n",
    "from spamm.Samples import Samples\n",
    "from astropy.modeling.functional_models import Gaussian1D\n",
    "#from run_el import create_el\n",
    "import corner\n",
    "import matplotlib.pyplot as plt"
   ]
  },
  {
   "cell_type": "code",
   "execution_count": 2,
   "id": "c972b801-9f89-4e3e-818a-96ca3e2b8c91",
   "metadata": {},
   "outputs": [],
   "source": [
    "# Define a simple spectrum object or use an array for the spectral axis\n",
    "class MockSpectrum:\n",
    "    def __init__(self, spectral_axis):\n",
    "        self.spectral_axis = spectral_axis\n",
    "        self.flux = np.zeros_like(spectral_axis)\n",
    "\n",
    "def v_to_a(velocity_width, central_wavelength):\n",
    "    c = 299792.458  # Speed of light in km/s\n",
    "    wavelength_width = central_wavelength * (velocity_width / c)\n",
    "    return wavelength_width"
   ]
  },
  {
   "cell_type": "code",
   "execution_count": 3,
   "id": "1c025d06-2183-42d7-a5ed-53d190a1bda3",
   "metadata": {
    "jupyter": {
     "source_hidden": true
    }
   },
   "outputs": [],
   "source": [
    "def log_rebin(lam, spec, velscale=None, oversample=1, flux=False):\n",
    "    \"\"\"\n",
    "    Logarithmically rebin a spectrum, or the first dimension of an array of\n",
    "    spectra arranged as columns, while rigorously conserving the flux.\n",
    "    The photons in the spectrum are simply redistributed according to a new\n",
    "    grid of pixels, with logarithmic sampling in the spectral direction.\n",
    "\n",
    "    When `flux=True` keyword is set, this program performs an exact\n",
    "    integration of the original spectrum, assumed to be a step function\n",
    "    constant within each pixel, onto the new logarithmically-spaced pixels.\n",
    "    When `flux=False` (default) the result of the integration is divided by\n",
    "    the size of each pixel to return a flux density (e.g. in erg/(s cm^2 A)).\n",
    "    The output was tested to agree with the analytic solution.\n",
    "\n",
    "    Input Parameters\n",
    "    ----------------\n",
    "\n",
    "    lam: either [lam_min, lam_max] or wavelength `lam` per spectral pixel.\n",
    "        * If this has two elements, they are assumed to represent the central\n",
    "          wavelength of the first and last pixels in the spectrum, which is\n",
    "          assumed to have constant wavelength scale.\n",
    "          log_rebin is faster with regular sampling.\n",
    "        * Alternatively one can input the central wavelength of every\n",
    "          spectral pixel and this allows for arbitrary irregular sampling in\n",
    "          wavelength. In this case the program assumes the pixels edges are the\n",
    "          midpoints of the input pixels wavelengths.\n",
    "\n",
    "        EXAMPLE: For uniform wavelength sampling, using the values in the\n",
    "        standard FITS keywords (but note that the format can be different)::\n",
    "\n",
    "            lam = CRVAL1 + CDELT1*np.arange(NAXIS1)\n",
    "\n",
    "    spec:\n",
    "        Input spectrum or array of spectra to rebin logarithmically.\n",
    "        This can be a vector `spec[npixels]` or array `spec[npixels, nspec]`.\n",
    "    oversample:\n",
    "        Can be used, not to degrade spectral resolution,\n",
    "        especially for extended wavelength ranges and to avoid aliasing.\n",
    "        Default: `oversample=1` implies same number of output pixels as input.\n",
    "    velscale:\n",
    "        Velocity scale in km/s per pixels. If this variable is not defined, it\n",
    "        will be computed to produce the same number of output pixels as the\n",
    "        input. If this variable is defined by the user it will be used to set\n",
    "        the output number of pixels and wavelength scale.\n",
    "    flux: bool\n",
    "        `True` to preserve total flux, `False` to preserve the flux density.\n",
    "        When `flux=True` the log rebinning changes the pixels flux in\n",
    "        proportion to their dlam and the following command will show large\n",
    "        differences between the spectral shape before and after `log_rebin`::\n",
    "\n",
    "           plt.plot(exp(ln_lam), specNew)  # Plot log-rebinned spectrum\n",
    "           plt.plot(np.linspace(lam[0], lam[1], spec.size), spec)\n",
    "\n",
    "        By default `flux=`False` and `log_rebin` returns a flux density and\n",
    "        the above two lines produce two spectra that almost perfectly overlap\n",
    "        each other.\n",
    "\n",
    "    Output Parameters\n",
    "    -----------------        \n",
    "\n",
    "    spec_new: \n",
    "        Logarithmically-rebinned spectrum flux.\n",
    "     \n",
    "    ln_lam: \n",
    "        Natural logarithm of the wavelength.\n",
    "\n",
    "    velscale:\n",
    "        Velocity scale per pixel in km/s.\n",
    "\n",
    "    \"\"\"\n",
    "    lam, spec = np.asarray(lam, dtype=float), np.asarray(spec, dtype=float)\n",
    "    assert np.all(np.diff(lam) > 0), '`lam` must be monotonically increasing'\n",
    "    n = len(spec)\n",
    "    assert lam.size in [2, n], \"`lam` must be either a 2-elements range or a vector with the length of `spec`\"\n",
    "\n",
    "    if lam.size == 2:\n",
    "        dlam = np.diff(lam)/(n - 1)             # Assume constant dlam\n",
    "        lim = lam + [-0.5, 0.5]*dlam\n",
    "        borders = np.linspace(*lim, n + 1)\n",
    "    else:\n",
    "        lim = 1.5*lam[[0, -1]] - 0.5*lam[[1, -2]]\n",
    "        borders = np.hstack([lim[0], (lam[1:] + lam[:-1])/2, lim[1]])\n",
    "        dlam = np.diff(borders)\n",
    "\n",
    "    ln_lim = np.log(lim)\n",
    "    c = 299792.458                          # Speed of light in km/s\n",
    "\n",
    "    if velscale is None:\n",
    "        m = int(n*oversample)               # Number of output elements\n",
    "        velscale = c*np.diff(ln_lim)/m      # Only for output (eq. 8 of Cappellari 2017, MNRAS)\n",
    "        velscale = velscale.item()          # Make velscale a scalar\n",
    "    else:\n",
    "        ln_scale = velscale/c\n",
    "        m = int(np.diff(ln_lim)/ln_scale)   # Number of output pixels\n",
    "\n",
    "    newBorders = np.exp(ln_lim[0] + velscale/c*np.arange(m + 1))\n",
    "\n",
    "    if lam.size == 2:\n",
    "        k = ((newBorders - lim[0])/dlam).clip(0, n-1).astype(int)\n",
    "    else:\n",
    "        k = (np.searchsorted(borders, newBorders) - 1).clip(0, n-1)\n",
    "\n",
    "    specNew = np.add.reduceat((spec.T*dlam).T, k)[:-1]  # Do analytic integral of step function\n",
    "    specNew.T[...] *= np.diff(k) > 0                    # fix for design flaw of reduceat()\n",
    "    specNew.T[...] += np.diff(((newBorders - borders[k]))*spec[k].T)  # Add to 1st dimension\n",
    "\n",
    "    if not flux:\n",
    "        specNew.T[...] /= np.diff(newBorders)   # Divide 1st dimension\n",
    "\n",
    "    # Output np.log(wavelength): natural log of geometric mean\n",
    "    ln_lam = 0.5*np.log(newBorders[1:]*newBorders[:-1])\n",
    "\n",
    "    return specNew, ln_lam, velscale"
   ]
  },
  {
   "cell_type": "code",
   "execution_count": 4,
   "id": "b6e79152-6e6d-480c-b6ed-2190355905ab",
   "metadata": {},
   "outputs": [
    {
     "data": {
      "image/png": "[encoded data removed]",
      "text/plain": [
       "<Figure size 640x480 with 1 Axes>"
      ]
     },
     "metadata": {},
     "output_type": "display_data"
    }
   ],
   "source": [
    "EL_PARAMS = {'narrow_width': 400,\n",
    "             '[OIII]_5006_amp_0': 20,\n",
    "             '[OIII]_5006_loc_0': 5006}\n",
    "\n",
    "width = EL_PARAMS['narrow_width']\n",
    "amp = EL_PARAMS['[OIII]_5006_amp_0']\n",
    "mean = EL_PARAMS['[OIII]_5006_loc_0']\n",
    "\n",
    "c_kms = 299792.458  # Speed of light in km/s\n",
    "\n",
    "# Create a spectral axis\n",
    "wave = np.arange(4900., 5100., 1)  # Example range\n",
    "\n",
    "flux = 30 * np.exp(-(wave - mean)**2 / (2*v_to_a(600, mean)**2))\n",
    "noise = flux*0.05\n",
    "\n",
    "plt.plot(wave, flux)\n",
    "plt.xlabel('Wavelength')\n",
    "plt.ylabel('Flux')\n",
    "plt.title('Mock Emission Line Data')\n",
    "plt.show()"
   ]
  },
  {
   "cell_type": "code",
   "execution_count": null,
   "id": "d5554b34-62e9-4557-9cef-988cacfd62c3",
   "metadata": {},
   "outputs": [
    {
     "name": "stderr",
     "output_type": "stream",
     "text": [
      " 26%|█████████▋                            | 1281/5000 [00:01<00:05, 695.63it/s]"
     ]
    }
   ],
   "source": [
    "comp_params = {'EL': EL_PARAMS}\n",
    "comp_names = {'EL'}\n",
    "\n",
    "out = spamm(complist=['EL'], inspectrum=(wave, flux, noise), comp_params=EL_PARAMS, \n",
    "      n_walkers=30, n_iterations=5000, parallel=False,\n",
    "      outdir=\"newtest_example\", picklefile=\"newtest\")"
   ]
  },
  {
   "cell_type": "code",
   "execution_count": null,
   "id": "c43ffe89-6993-41e4-a844-3f75fe51eb1d",
   "metadata": {},
   "outputs": [],
   "source": [
    "S = Samples(\"newtest_example/newtest.pickle.gz\", outdir='newtest_example', burn=0)\n",
    "plot_best_models(S)"
   ]
  },
  {
   "cell_type": "code",
   "execution_count": null,
   "id": "cf0e68d8-d4ff-4a37-9f1f-6fd277b13ca4",
   "metadata": {},
   "outputs": [],
   "source": [
    "0.41+5.005e3"
   ]
  },
  {
   "cell_type": "code",
   "execution_count": null,
   "id": "8db1eafc-e890-4fa6-92d9-e709d115c1a8",
   "metadata": {},
   "outputs": [],
   "source": [
    "flat_samples = S.model.sampler.get_chain(discard=1000, thin=1, flat=True)\n",
    "fig = corner.corner(flat_samples);"
   ]
  },
  {
   "cell_type": "code",
   "execution_count": null,
   "id": "ce6b1042-7de7-4194-a442-02bb5a71f240",
   "metadata": {},
   "outputs": [],
   "source": [
    "fig, axes = plt.subplots(3, figsize=(10, 7), sharex=True)\n",
    "samples = S.model.sampler.get_chain(discard=0)\n",
    "#tau = S.model.sampler.get_autocorr_time()\n",
    "for i in range(3):\n",
    "    ax = axes[i]\n",
    "    ax.plot(samples[:, :, i], \"k\", alpha=0.3)\n",
    "    ax.set_xlim(0, len(samples))\n",
    "    ax.yaxis.set_label_coords(-0.1, 0.5)\n",
    "\n",
    "axes[-1].set_xlabel(\"step number\")\n",
    "axes[0].set_ylabel(\"width\")\n",
    "axes[1].set_ylabel(\"amplitude\")\n",
    "axes[2].set_ylabel(\"mean\");"
   ]
  },
  {
   "cell_type": "code",
   "execution_count": null,
   "id": "9f64b5c3-f015-4ae4-b4d0-d20599612883",
   "metadata": {},
   "outputs": [],
   "source": []
  }
 ],
 "metadata": {
  "kernelspec": {
   "display_name": "Python 3 (ipykernel)",
   "language": "python",
   "name": "python3"
  },
  "language_info": {
   "codemirror_mode": {
    "name": "ipython",
    "version": 3
   },
   "file_extension": ".py",
   "mimetype": "text/x-python",
   "name": "python",
   "nbconvert_exporter": "python",
   "pygments_lexer": "ipython3",
   "version": "3.11.9"
  }
 },
 "nbformat": 4,
 "nbformat_minor": 5
}
