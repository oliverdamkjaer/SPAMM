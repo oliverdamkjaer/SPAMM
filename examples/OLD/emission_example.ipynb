{
 "cells": [
  {
   "cell_type": "code",
   "execution_count": 4,
   "id": "a7b1624b-4636-4036-b409-d5526ec051a4",
   "metadata": {},
   "outputs": [
    {
     "ename": "IndentationError",
     "evalue": "unexpected indent (run_el.py, line 30)",
     "output_type": "error",
     "traceback": [
      "Traceback \u001b[0;36m(most recent call last)\u001b[0m:\n",
      "\u001b[0m  File \u001b[1;32m/opt/homebrew/Caskroom/miniforge/base/envs/spamm/lib/python3.11/site-packages/IPython/core/interactiveshell.py:3553\u001b[0m in \u001b[1;35mrun_code\u001b[0m\n    exec(code_obj, self.user_global_ns, self.user_ns)\u001b[0m\n",
      "\u001b[0;36m  Cell \u001b[0;32mIn[4], line 8\u001b[0;36m\n\u001b[0;31m    import run_fe, run_pl, run_bc, run_hg, run_el\u001b[0;36m\n",
      "\u001b[0;36m  File \u001b[0;32m~/Library/CloudStorage/Dropbox/Universitet/SPAMM/examples/run_el.py:30\u001b[0;36m\u001b[0m\n\u001b[0;31m    for line in self.lines:\u001b[0m\n\u001b[0m    ^\u001b[0m\n\u001b[0;31mIndentationError\u001b[0m\u001b[0;31m:\u001b[0m unexpected indent\n"
     ]
    }
   ],
   "source": [
    "%config InlineBackend.figure_format = \"retina\"\n",
    "\n",
    "import numpy as np\n",
    "import matplotlib.pyplot as plt\n",
    "\n",
    "from utils.parse_pars import parse_pars\n",
    "from spamm.run_spamm import spamm\n",
    "import run_fe, run_pl, run_bc, run_hg, run_el\n",
    "from utils.add_in_quadrature import add_in_quadrature\n",
    "from spamm.analysis import plot_best_models, plot_chains\n",
    "from spamm.Samples import Samples\n",
    "import corner"
   ]
  },
  {
   "cell_type": "code",
   "execution_count": null,
   "id": "21e56d17-e3e8-4f3b-a9fc-fe5fd079a30d",
   "metadata": {},
   "outputs": [],
   "source": [
    "def generate_data(components=None, comp_params=None):\n",
    "\n",
    "    all_wls = []\n",
    "    all_fluxes = []\n",
    "    all_errs = []\n",
    "    comb_p = {}\n",
    "    comp_names = {}\n",
    "    \n",
    "    for component in components:\n",
    "        component = component.upper()\n",
    "        if component == \"PL\":\n",
    "            comp_wl, comp_flux, comp_err, comp_p = run_pl.create_pl(comp_params[\"PL\"])\n",
    "            comp_names[\"PL\"] = True\n",
    "\n",
    "        elif component == \"NEL\":\n",
    "            comp_wl, comp_flux, comp_err, comp_p = run_ne.create_ne(comp_params[\"NEL\"])\n",
    "            comp_names[\"NEL\"] = True\n",
    "            \n",
    "        all_fluxes.append(comp_flux)\n",
    "        all_wls.append(comp_wl)\n",
    "        all_errs.append(comp_err)\n",
    "        comb_p = {**comb_p, **comp_p}\n",
    "\n",
    "    comb_wl = wl\n",
    "    comb_flux = np.sum(all_fluxes, axis=0)\n",
    "    comb_err = add_in_quadrature(all_errs)\n",
    "    \n",
    "    print(f\"{LINEOUT}\\nUsing components: {components}\")\n",
    "    \n",
    "    return comb_wl, comb_flux, comb_err, all_fluxes, comp_names"
   ]
  },
  {
   "cell_type": "code",
   "execution_count": null,
   "id": "4bc2c002-04ef-45f1-a4eb-0ca84af15b6e",
   "metadata": {},
   "outputs": [],
   "source": [
    "# This should be a wllength range from 1000-10,000A, every 0.5A\n",
    "TEST_wl = parse_pars()[\"testing\"]\n",
    "\n",
    "# Create wllength array from min, max and step values\n",
    "wl = np.arange(TEST_wl[\"wl_min\"], TEST_wl[\"wl_max\"], TEST_wl[\"wl_step\"])\n",
    "wl = np.arange(1000, 10000, 0.5)\n",
    "\n",
    "# These values were picked by hand to provide the most realistic power law.\n",
    "PL_PARAMS = {\"norm_PL\": 1e-14,\n",
    "             \"slope1\": 2.3,\n",
    "             \"broken_pl\": False,\n",
    "             \"wl\": wl}\n",
    "\n",
    "NEL_PARAMS = {\"width\": 50, \n",
    "              \"amp_1\": 10, \n",
    "              \"center_1\": 4830,\n",
    "              \"amp_2\": 5, \n",
    "              \"center_2\": 6800,\n",
    "              \"amp_3\": 8, \n",
    "              \"center_3\": 3000,\n",
    "              \"wl\": wl}\n",
    "\n",
    "LINEOUT = \"#\"*75\n",
    "\n",
    "components=[\"PL\", \"NEL\"]\n",
    "comp_params={\"PL\": PL_PARAMS, \"NEL\": NEL_PARAMS}\n",
    "\n",
    "_, flux, flux_err, all_fluxes, comp_names = generate_data(components=components, comp_params=comp_params)\n",
    "\n",
    "noise = np.random.normal(0, 1, len(flux)) * 0.05*flux\n",
    "\n",
    "fdeg = flux + noise\n",
    "\n",
    "fig = plt.figure(figsize=(20,5))\n",
    "plt.plot(wl, flux)\n",
    "#plt.plot(wl, all_fluxes[0])\n",
    "plt.title(f\"Fake data spectrum\")\n",
    "plt.xlabel(\"wllength (Å)\")\n",
    "plt.ylabel(\"Flux\");"
   ]
  },
  {
   "cell_type": "code",
   "execution_count": null,
   "id": "f6570173-a5d9-4130-ac6f-cfae0916f702",
   "metadata": {},
   "outputs": [],
   "source": [
    "class EmissionLine():\n",
    "    def __init__(self, name, wavelength, amplitude, width, num_comp):\n",
    "        self.name = name\n",
    "        self.wavelength = wavelength\n",
    "        self.amplitude = amplitude\n",
    "        self.width = width\n",
    "        self.num_components = num_comp\n",
    "        self.params = [param for i in range(num_comp) for param in (f\"{name}_loc_{i+1}\", f\"{name}_amp_{i+1}\")]"
   ]
  },
  {
   "cell_type": "code",
   "execution_count": null,
   "id": "34210ec2-b5d1-4054-830c-2cba45156b31",
   "metadata": {},
   "outputs": [],
   "source": [
    "test = EmissionLine(\"CIV\", 1549.00, 10, 2, 1)\n",
    "test.params"
   ]
  },
  {
   "cell_type": "code",
   "execution_count": null,
   "id": "03a9c873-20a5-4e88-b037-413c99ac966d",
   "metadata": {},
   "outputs": [],
   "source": [
    "spamm(complist=comp_names, inspectrum=(wl, flux, flux_err), comp_params=comp_params, n_walkers=150, n_iterations=1000, \n",
    "      outdir=\"combined_example\", picklefile=\"combined\", parallel=True, par_file=\"parameters.yaml\")"
   ]
  },
  {
   "cell_type": "code",
   "execution_count": null,
   "id": "dc72618d-e9bf-4ebb-a28e-a7d22f1c17de",
   "metadata": {},
   "outputs": [],
   "source": [
    "S = Samples(\"combined_example/combined.pickle.gz\", outdir='combined_example', burn=600)\n",
    "plot_best_models(S)"
   ]
  },
  {
   "cell_type": "code",
   "execution_count": null,
   "id": "8feee1d3-5ca2-4e65-96e1-ca92444616a8",
   "metadata": {},
   "outputs": [],
   "source": [
    "fig, axes = plt.subplots(20, figsize=(10, 7), sharex=True)\n",
    "samples = S.model.sampler.get_chain(discard=8000)\n",
    "#tau = S.model.sampler.get_autocorr_time()\n",
    "for i in range(20):\n",
    "    ax = axes[i]\n",
    "    ax.plot(samples[:, :, i], \"k\", alpha=0.3)\n",
    "    ax.set_xlim(0, len(samples))\n",
    "    ax.yaxis.set_label_coords(-0.1, 0.5)\n",
    "\n",
    "axes[-1].set_xlabel(\"step number\");"
   ]
  },
  {
   "cell_type": "code",
   "execution_count": null,
   "id": "8a544185-f5e0-4ac0-9ca5-1c3a8ccb7008",
   "metadata": {},
   "outputs": [],
   "source": [
    "flat_samples = S.model.sampler.get_chain(discard=6000, thin=10, flat=True)\n",
    "fig = corner.corner(flat_samples);"
   ]
  },
  {
   "cell_type": "code",
   "execution_count": null,
   "id": "badaea45-e6b2-4ece-b9ea-114f14db4651",
   "metadata": {},
   "outputs": [],
   "source": [
    "fig = plt.figure(figsize=(10, 7))\n",
    "samples = S.model.sampler.get_log_prob()\n",
    "plt.plot(samples[:,:]);\n",
    "plt.xlim(30)\n",
    "plt.ylim(-20000,0)"
   ]
  },
  {
   "cell_type": "code",
   "execution_count": null,
   "id": "d2d93a1f-ff35-40d7-825f-be87eeea0517",
   "metadata": {},
   "outputs": [],
   "source": [
    "plt.hist(samples, bins=200);\n",
    "plt.xlim(-0.2e8, 0)"
   ]
  },
  {
   "cell_type": "code",
   "execution_count": null,
   "id": "10147657-0bc1-4e1b-8c92-669c8111326a",
   "metadata": {},
   "outputs": [],
   "source": [
    "import corner\n",
    "flat_samples = S.model.sampler.get_chain(discard=1000, thin=20, flat=True)\n",
    "\n",
    "fig = corner.corner(flat_samples, truths=[10, 2.3, 50, 10, 4830, 5, 6800, 8, 3000]);"
   ]
  },
  {
   "cell_type": "code",
   "execution_count": null,
   "id": "fe98cdd9-1349-42ca-b419-cc3174253772",
   "metadata": {},
   "outputs": [],
   "source": [
    "PL_PARAMS = {\"norm_PL\": 10,\n",
    "             \"slope1\": 2.3,\n",
    "             \"broken_pl\": False,\n",
    "             \"wl\": wl}\n",
    "\n",
    "# The normalizations are drawn from a gaussian sample with mu=9.06e-15,\n",
    "# sigma=3.08946e-15 (from 0->template max flux). fe_width is halfway \n",
    "# between range in parameters. wl is very close to template span (1075-7535)\n",
    "FE_PARAMS = {\"fe_norm_1\": 1.07988504e-14,\n",
    "             \"fe_norm_2\": 6.91877436e-15,\n",
    "             \"fe_norm_3\": 5e-15,# 8.68930476e-15, \n",
    "             \"fe_width\": 5450,\n",
    "             \"no_templates\": 3,\n",
    "             \"wl\": wl}\n",
    "\n",
    "# These values are just the midpoints of the parameter space in parameters.yaml\n",
    "BC_PARAMS = {\"bc_norm\": 3e-14,\n",
    "             \"bc_tauBE\": 1.,\n",
    "             \"bc_logNe\": 5.5,\n",
    "             \"bc_loffset\": 0.,\n",
    "             \"bc_lwidth\": 5050.,\n",
    "             \"bc_Te\": 15250.,\n",
    "             \"bc_lines\": 201.5,\n",
    "             \"wl\": wl}\n",
    "\n",
    "# These values are just the midpoints of the parameter space in parameters.yaml\n",
    "HG_PARAMS = {\"hg_norm_1\": 4e-16,\n",
    "             \"hg_norm_2\": 2e-16,\n",
    "             \"hg_stellar_disp\": 515,\n",
    "             \"no_templates\": 2,\n",
    "             \"wl\": wl}\n",
    "\n",
    "NEL_PARAMS = {\"width\": 50, \n",
    "              \"amp_1\": 10, \n",
    "              \"center_1\": 4830,\n",
    "              \"amp_2\": 5, \n",
    "              \"center_2\": 6800,\n",
    "              \"amp_3\": 8, \n",
    "              \"center_3\": 3000,\n",
    "              \"wl\": wl}\n",
    "\n",
    "LINEOUT = \"#\"*75"
   ]
  },
  {
   "cell_type": "code",
   "execution_count": 1,
   "id": "4d402431-d171-4a19-bc1c-9e95724ce1fa",
   "metadata": {},
   "outputs": [
    {
     "ename": "NameError",
     "evalue": "name 'plt' is not defined",
     "output_type": "error",
     "traceback": [
      "\u001b[0;31m---------------------------------------------------------------------------\u001b[0m",
      "\u001b[0;31mNameError\u001b[0m                                 Traceback (most recent call last)",
      "Cell \u001b[0;32mIn[1], line 1\u001b[0m\n\u001b[0;32m----> 1\u001b[0m fig, axes \u001b[38;5;241m=\u001b[39m \u001b[43mplt\u001b[49m\u001b[38;5;241m.\u001b[39msubplots(\u001b[38;5;241m3\u001b[39m, figsize\u001b[38;5;241m=\u001b[39m(\u001b[38;5;241m10\u001b[39m, \u001b[38;5;241m7\u001b[39m), sharex\u001b[38;5;241m=\u001b[39m\u001b[38;5;28;01mTrue\u001b[39;00m)\n\u001b[1;32m      2\u001b[0m samples \u001b[38;5;241m=\u001b[39m S\u001b[38;5;241m.\u001b[39mmodel\u001b[38;5;241m.\u001b[39msampler\u001b[38;5;241m.\u001b[39mget_chain(discard\u001b[38;5;241m=\u001b[39m\u001b[38;5;241m200\u001b[39m)\n\u001b[1;32m      3\u001b[0m \u001b[38;5;66;03m#tau = S.model.sampler.get_autocorr_time()\u001b[39;00m\n",
      "\u001b[0;31mNameError\u001b[0m: name 'plt' is not defined"
     ]
    }
   ],
   "source": [
    "fig, axes = plt.subplots(3, figsize=(10, 7), sharex=True)\n",
    "samples = S.model.sampler.get_chain(discard=200)\n",
    "#tau = S.model.sampler.get_autocorr_time()\n",
    "for i in range(3):\n",
    "    ax = axes[i]\n",
    "    ax.plot(samples[:, :, i], \"k\", alpha=0.3)\n",
    "    ax.set_xlim(0, len(samples))\n",
    "    ax.yaxis.set_label_coords(-0.1, 0.5)\n",
    "\n",
    "axes[-1].set_xlabel(\"step number\");\n",
    "axes[0].set_ylabel(\"amplitude\")\n",
    "axes[1].set_ylabel(\"alpha\");"
   ]
  }
 ],
 "metadata": {
  "kernelspec": {
   "display_name": "Python 3 (ipykernel)",
   "language": "python",
   "name": "python3"
  },
  "language_info": {
   "codemirror_mode": {
    "name": "ipython",
    "version": 3
   },
   "file_extension": ".py",
   "mimetype": "text/x-python",
   "name": "python",
   "nbconvert_exporter": "python",
   "pygments_lexer": "ipython3",
   "version": "3.11.9"
  }
 },
 "nbformat": 4,
 "nbformat_minor": 5
}
