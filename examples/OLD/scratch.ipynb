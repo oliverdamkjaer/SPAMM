{
 "cells": [
  {
   "cell_type": "code",
   "execution_count": 1,
   "id": "ac2a0fcc-356d-435a-a193-781fea2605ee",
   "metadata": {},
   "outputs": [],
   "source": [
    "import numpy as np\n",
    "import json\n",
    "import os"
   ]
  },
  {
   "cell_type": "code",
   "execution_count": 20,
   "id": "201f685e-211b-4453-8fca-6f7c7a5a1aa7",
   "metadata": {},
   "outputs": [],
   "source": [
    "class EmissionLine:\n",
    "    def __init__(self, params):\n",
    "        self.name = params['name']\n",
    "        self.wavelength = params['wavelength']\n",
    "        self.is_broad = params.get('is_broad', False)\n",
    "        self.num_components = params.get('num_components', 1)\n",
    "        if self.is_broad:\n",
    "            self.params = [f\"{self.name}_amp_0\", f\"{self.name}_loc_0\"]\n",
    "            self.params += [f\"{self.name}_{suffix}_{i+1}\" for i in range(self.num_components) for suffix in ('amp', 'loc', 'width')]\n",
    "        else:\n",
    "            self.params = [f\"{self.name}_{suffix}_{i}\" for i in range(self.num_components) for suffix in ('amp', 'loc')]"
   ]
  },
  {
   "cell_type": "code",
   "execution_count": 21,
   "id": "ec295389-6371-421a-9fd3-1014256e45c4",
   "metadata": {},
   "outputs": [],
   "source": [
    "# Load emission lines from JSON file\n",
    "with open('emission_lines.json') as f:\n",
    "    emission_lines = json.load(f)\n",
    "\n",
    "# Initialize lines\n",
    "lines = [EmissionLine(line) for line in emission_lines]\n",
    "\n",
    "# Define parameters\n",
    "model_parameter_names = ['narrow_width']\n",
    "\n",
    "for line in lines:\n",
    "    model_parameter_names.extend(line.params)"
   ]
  },
  {
   "cell_type": "code",
   "execution_count": 22,
   "id": "4cd401db-d7b4-4487-9c03-945f43bc454a",
   "metadata": {},
   "outputs": [
    {
     "data": {
      "text/plain": [
       "['narrow_width',\n",
       " 'Hbeta_4861_amp_0',\n",
       " 'Hbeta_4861_loc_0',\n",
       " 'Hbeta_4861_amp_1',\n",
       " 'Hbeta_4861_loc_1',\n",
       " 'Hbeta_4861_width_1',\n",
       " 'Hbeta_4861_amp_2',\n",
       " 'Hbeta_4861_loc_2',\n",
       " 'Hbeta_4861_width_2',\n",
       " 'Hbeta_4861_amp_3',\n",
       " 'Hbeta_4861_loc_3',\n",
       " 'Hbeta_4861_width_3',\n",
       " '[OIII]_5006_amp_0',\n",
       " '[OIII]_5006_loc_0']"
      ]
     },
     "execution_count": 22,
     "metadata": {},
     "output_type": "execute_result"
    }
   ],
   "source": [
    "model_parameter_names"
   ]
  },
  {
   "cell_type": "code",
   "execution_count": 23,
   "id": "b9e77165-40bf-45f1-adcf-bc771f01b8ba",
   "metadata": {},
   "outputs": [
    {
     "data": {
      "text/plain": [
       "['Hbeta_4861_amp_0',\n",
       " 'Hbeta_4861_loc_0',\n",
       " 'Hbeta_4861_amp_1',\n",
       " 'Hbeta_4861_loc_1',\n",
       " 'Hbeta_4861_width_1',\n",
       " 'Hbeta_4861_amp_2',\n",
       " 'Hbeta_4861_loc_2',\n",
       " 'Hbeta_4861_width_2',\n",
       " 'Hbeta_4861_amp_3',\n",
       " 'Hbeta_4861_loc_3',\n",
       " 'Hbeta_4861_width_3']"
      ]
     },
     "execution_count": 23,
     "metadata": {},
     "output_type": "execute_result"
    }
   ],
   "source": [
    "lines[0].params"
   ]
  },
  {
   "cell_type": "code",
   "execution_count": null,
   "id": "66ad65da-7cc5-463c-93d9-a7818d7592ea",
   "metadata": {},
   "outputs": [],
   "source": []
  }
 ],
 "metadata": {
  "kernelspec": {
   "display_name": "Python 3 (ipykernel)",
   "language": "python",
   "name": "python3"
  },
  "language_info": {
   "codemirror_mode": {
    "name": "ipython",
    "version": 3
   },
   "file_extension": ".py",
   "mimetype": "text/x-python",
   "name": "python",
   "nbconvert_exporter": "python",
   "pygments_lexer": "ipython3",
   "version": "3.11.9"
  }
 },
 "nbformat": 4,
 "nbformat_minor": 5
}
